{
  "nbformat": 4,
  "nbformat_minor": 0,
  "metadata": {
    "colab": {
      "provenance": [],
      "authorship_tag": "ABX9TyPnK1lnx6xyyFsOlNEg8L/9",
      "include_colab_link": true
    },
    "kernelspec": {
      "name": "python3",
      "display_name": "Python 3"
    },
    "language_info": {
      "name": "python"
    }
  },
  "cells": [
    {
      "cell_type": "markdown",
      "metadata": {
        "id": "view-in-github",
        "colab_type": "text"
      },
      "source": [
        "<a href=\"https://colab.research.google.com/github/Ashish-1521/ML-HW/blob/main/HW_3.ipynb\" target=\"_parent\"><img src=\"https://colab.research.google.com/assets/colab-badge.svg\" alt=\"Open In Colab\"/></a>"
      ]
    },
    {
      "cell_type": "code",
      "execution_count": 108,
      "metadata": {
        "colab": {
          "base_uri": "https://localhost:8080/"
        },
        "id": "cSPySiXSfPfc",
        "outputId": "971255a8-131a-4449-fe65-6dedf8983797"
      },
      "outputs": [
        {
          "output_type": "stream",
          "name": "stdout",
          "text": [
            "     PassengerId  Survived   Age     Fare  1  2  3  female  male  C  Q  S\n",
            "0              1         0  22.0   7.2500  0  0  1       0     1  0  0  1\n",
            "1              2         1  38.0  71.2833  1  0  0       1     0  1  0  0\n",
            "2              3         1  26.0   7.9250  0  0  1       1     0  0  0  1\n",
            "3              4         1  35.0  53.1000  1  0  0       1     0  0  0  1\n",
            "4              5         0  35.0   8.0500  0  0  1       0     1  0  0  1\n",
            "..           ...       ...   ...      ... .. .. ..     ...   ... .. .. ..\n",
            "885          886         0  39.0  29.1250  0  0  1       1     0  0  1  0\n",
            "886          887         0  27.0  13.0000  0  1  0       0     1  0  0  1\n",
            "887          888         1  19.0  30.0000  1  0  0       1     0  0  0  1\n",
            "889          890         1  26.0  30.0000  1  0  0       0     1  1  0  0\n",
            "890          891         0  32.0   7.7500  0  0  1       0     1  0  1  0\n",
            "\n",
            "[712 rows x 12 columns]\n"
          ]
        }
      ],
      "source": [
        "import pandas as pd\n",
        "import numpy as np\n",
        "from sklearn.model_selection import train_test_split\n",
        "from sklearn.model_selection import cross_val_score\n",
        "from sklearn.model_selection import ShuffleSplit\n",
        "from sklearn.ensemble import RandomForestClassifier\n",
        "from sklearn import tree\n",
        "\n",
        "# reading the file\n",
        "_data = pd.read_csv(\"/content/sample_data/train.csv\")\n",
        "\n",
        "# Removing unwanted or columns that provide much info\n",
        "unwanted_Col = [\"Name\",\"Cabin\",\"Ticket\"]\n",
        "_data = _data.drop(unwanted_Col,axis=1)\n",
        "\n",
        "# Removing NA/null values from columns\n",
        "_data = _data.dropna()\n",
        "\n",
        "# Tranforming sex, Embark and Pclass to columns for more information and detailing\n",
        "new_col = [\"Pclass\",\"Sex\",\"Embarked\"]\n",
        "new_data = []\n",
        "# get_dummies converts the values of column to a set of columns or class of different values.\n",
        "for c in new_col:\n",
        "  new_data.append(pd.get_dummies(_data[c]))\n",
        "new_data = pd.concat(new_data,axis=1) # since the data is in list format we concat the data with a null values for easy conversion\n",
        "_data = pd.concat((_data,new_data),axis=1)\n",
        "\n",
        "# Dropping redundant and unwanted columns\n",
        "unwanted_col = [\"Pclass\",\"Sex\",\"Embarked\",\"Parch\",\"SibSp\"]\n",
        "_data = _data.drop(unwanted_col,axis=1)\n",
        "\n",
        "# Use interpolate function to fill all the missing values in the age. Interpolate fills the missing values with the median value\n",
        "_data[\"Age\"] = _data[\"Age\"].interpolate()\n",
        "print(_data)"
      ]
    },
    {
      "cell_type": "code",
      "source": [
        "from sklearn.metrics import accuracy_score\n",
        "X = _data.values\n",
        "Y = _data[\"Survived\"].values\n",
        "\n",
        "# X still has survived column values removing the column\n",
        "X = np.delete(X,1,axis=1)\n",
        "\n",
        "X_train, X_test, Y_train, Y_real = train_test_split(X,Y,test_size=0.3)\n",
        "\n",
        "# Using Decision tree classifier for decision tree\n",
        "clf = tree.DecisionTreeClassifier(max_depth = 3)\n",
        "clf = clf.fit(X_train,Y_train)\n",
        "# print(clf.score)\n",
        "y_pred = clf.predict(X_test)\n",
        "accuracy = accuracy_score(Y_real,y_pred)\n",
        "print(\"Accuracy :\",accuracy)\n",
        "tree.plot_tree(clf,class_names = ['Survived','Not Survived'])"
      ],
      "metadata": {
        "colab": {
          "base_uri": "https://localhost:8080/",
          "height": 684
        },
        "id": "ktN9GiP31bQL",
        "outputId": "06967b11-983c-49b5-f2ee-89d54c91a979"
      },
      "execution_count": 145,
      "outputs": [
        {
          "output_type": "stream",
          "name": "stdout",
          "text": [
            "Accuracy : 0.7616822429906542\n"
          ]
        },
        {
          "output_type": "execute_result",
          "data": {
            "text/plain": [
              "[Text(0.5, 0.875, 'x[7] <= 0.5\\ngini = 0.486\\nsamples = 498\\nvalue = [291, 207]\\nclass = Survived'),\n",
              " Text(0.25, 0.625, 'x[5] <= 0.5\\ngini = 0.356\\nsamples = 181\\nvalue = [42, 139]\\nclass = Not Survived'),\n",
              " Text(0.125, 0.375, 'x[1] <= 2.5\\ngini = 0.101\\nsamples = 112\\nvalue = [6, 106]\\nclass = Not Survived'),\n",
              " Text(0.0625, 0.125, 'gini = 0.5\\nsamples = 2\\nvalue = [1, 1]\\nclass = Survived'),\n",
              " Text(0.1875, 0.125, 'gini = 0.087\\nsamples = 110\\nvalue = [5, 105]\\nclass = Not Survived'),\n",
              " Text(0.375, 0.375, 'x[2] <= 24.212\\ngini = 0.499\\nsamples = 69\\nvalue = [36, 33]\\nclass = Survived'),\n",
              " Text(0.3125, 0.125, 'gini = 0.49\\nsamples = 58\\nvalue = [25, 33]\\nclass = Not Survived'),\n",
              " Text(0.4375, 0.125, 'gini = 0.0\\nsamples = 11\\nvalue = [11, 0]\\nclass = Survived'),\n",
              " Text(0.75, 0.625, 'x[3] <= 0.5\\ngini = 0.337\\nsamples = 317\\nvalue = [249, 68]\\nclass = Survived'),\n",
              " Text(0.625, 0.375, 'x[1] <= 6.5\\ngini = 0.262\\nsamples = 251\\nvalue = [212, 39]\\nclass = Survived'),\n",
              " Text(0.5625, 0.125, 'gini = 0.475\\nsamples = 18\\nvalue = [7, 11]\\nclass = Not Survived'),\n",
              " Text(0.6875, 0.125, 'gini = 0.211\\nsamples = 233\\nvalue = [205, 28]\\nclass = Survived'),\n",
              " Text(0.875, 0.375, 'x[0] <= 181.5\\ngini = 0.493\\nsamples = 66\\nvalue = [37, 29]\\nclass = Survived'),\n",
              " Text(0.8125, 0.125, 'gini = 0.219\\nsamples = 16\\nvalue = [14, 2]\\nclass = Survived'),\n",
              " Text(0.9375, 0.125, 'gini = 0.497\\nsamples = 50\\nvalue = [23, 27]\\nclass = Not Survived')]"
            ]
          },
          "metadata": {},
          "execution_count": 145
        },
        {
          "output_type": "display_data",
          "data": {
            "text/plain": [
              "<Figure size 640x480 with 1 Axes>"
            ],
            "image/png": "[encoded data removed]"
          },
          "metadata": {}
        }
      ]
    },
    {
      "cell_type": "code",
      "source": [
        "# For 5 fold cross validation we divide the dataset into 5 parts and each time we choose the 4 parts as training set and the remaining as testset\n",
        "cv = ShuffleSplit(n_splits=5, test_size=0.3)\n",
        "cross_Validation_scores = cross_val_score(clf,X_train,Y_train,cv=cv)\n",
        "print(cross_Validation_scores.mean())\n"
      ],
      "metadata": {
        "colab": {
          "base_uri": "https://localhost:8080/"
        },
        "id": "jVROkfIn1dWg",
        "outputId": "a60b14ff-5475-46b6-b078-b18657d131b3"
      },
      "execution_count": 151,
      "outputs": [
        {
          "output_type": "stream",
          "name": "stdout",
          "text": [
            "0.792\n"
          ]
        }
      ]
    },
    {
      "cell_type": "code",
      "source": [
        "model_rf = RandomForestClassifier()\n",
        "model_rf = clf.fit(X_train,Y_train)\n",
        "y_pred_forest = model_rf.predict(X_test)\n",
        "y_pred_forest\n",
        "accuracy_forest = model_rf.score(X_test,Y_real)\n",
        "accuracy_forest"
      ],
      "metadata": {
        "colab": {
          "base_uri": "https://localhost:8080/"
        },
        "id": "s3LiaLdNC_tq",
        "outputId": "aba38501-ab3a-4eca-a9d9-1bcfa4f71212"
      },
      "execution_count": 153,
      "outputs": [
        {
          "output_type": "execute_result",
          "data": {
            "text/plain": [
              "0.7616822429906542"
            ]
          },
          "metadata": {},
          "execution_count": 153
        }
      ]
    },
    {
      "cell_type": "code",
      "source": [
        "from sklearn.ensemble import BaggingClassifier\n",
        "classification_1 = tree.DecisionTreeClassifier(max_depth=3)\n",
        "bagging_classifier = BaggingClassifier(estimator=classification_1,n_estimators=100,random_state=1)\n",
        "bagging_classifier.fit(X_train,Y_train)\n",
        "y_pred = bagging_classifier.predict(X_test)\n",
        "accuracy_score(Y_real, y_pred)"
      ],
      "metadata": {
        "colab": {
          "base_uri": "https://localhost:8080/"
        },
        "id": "3G3itWSuLqtx",
        "outputId": "4236d6d8-3d14-4b88-fcc9-961c7c78e8e5"
      },
      "execution_count": 170,
      "outputs": [
        {
          "output_type": "execute_result",
          "data": {
            "text/plain": [
              "0.8084112149532711"
            ]
          },
          "metadata": {},
          "execution_count": 170
        }
      ]
    },
    {
      "cell_type": "code",
      "source": [
        "from sklearn.ensemble import AdaBoostClassifier\n",
        "adaBoost = AdaBoostClassifier(learning_rate=1.0,n_estimators=100)\n",
        "adaBoost.fit(X_train,Y_train)\n",
        "y_pred = adaBoost.predict(X_test)\n",
        "accuracy_score(Y_real, y_pred)"
      ],
      "metadata": {
        "colab": {
          "base_uri": "https://localhost:8080/"
        },
        "id": "DdQ6vs4NLxy6",
        "outputId": "0860dbd8-0aee-4744-dac0-74cd6e0b1819"
      },
      "execution_count": 168,
      "outputs": [
        {
          "output_type": "execute_result",
          "data": {
            "text/plain": [
              "0.7663551401869159"
            ]
          },
          "metadata": {},
          "execution_count": 168
        }
      ]
    }
  ]
}