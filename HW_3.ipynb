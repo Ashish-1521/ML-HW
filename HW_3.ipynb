{
  "nbformat": 4,
  "nbformat_minor": 0,
  "metadata": {
    "colab": {
      "provenance": [],
      "authorship_tag": "ABX9TyMW10xMl6JRi6e4haFuGOAO",
      "include_colab_link": true
    },
    "kernelspec": {
      "name": "python3",
      "display_name": "Python 3"
    },
    "language_info": {
      "name": "python"
    }
  },
  "cells": [
    {
      "cell_type": "markdown",
      "metadata": {
        "id": "view-in-github",
        "colab_type": "text"
      },
      "source": [
        "<a href=\"https://colab.research.google.com/github/Ashish-1521/ML-HW/blob/main/HW_3.ipynb\" target=\"_parent\"><img src=\"https://colab.research.google.com/assets/colab-badge.svg\" alt=\"Open In Colab\"/></a>"
      ]
    },
    {
      "cell_type": "markdown",
      "source": [
        "**QUESTION 4:**\n",
        "1.   Pre-processing of data is a step in the cleaning process that is necessary before data classification in order to remove contaminants that limit the model's accuracy.I have eliminated all null values from the data and ignored any information or data that does not aid in categorization, such as the Name column, while filling in the blanks for columns like AGE that include crucial data.Using the interpolate function, which replaces missing values with median values, I have filled in the blanks. These empty values can also be filled up with the mean of all the values in that column.\n",
        "\n",
        "2. From the data we can find that Name,Cabin,Ticket,SibSp,Ticket,parch does not effect the information and can missclassify the data because the price of ticket may vary from person to person based on the date and time of purchase and similarly all other mentioned features are not useful."
      ],
      "metadata": {
        "id": "FcIMhHgENWeG"
      }
    },
    {
      "cell_type": "code",
      "execution_count": 16,
      "metadata": {
        "colab": {
          "base_uri": "https://localhost:8080/"
        },
        "id": "cSPySiXSfPfc",
        "outputId": "1f4f5674-8886-401e-c66e-734b7b16b007"
      },
      "outputs": [
        {
          "output_type": "stream",
          "name": "stdout",
          "text": [
            "Index(['PassengerId', 'Survived', 'Pclass', 'Name', 'Sex', 'Age', 'SibSp',\n",
            "       'Parch', 'Ticket', 'Fare', 'Cabin', 'Embarked'],\n",
            "      dtype='object')\n",
            "     PassengerId  Survived   Age     Fare  1  2  3  female  male  C  Q  S\n",
            "0              1         0  22.0   7.2500  0  0  1       0     1  0  0  1\n",
            "1              2         1  38.0  71.2833  1  0  0       1     0  1  0  0\n",
            "2              3         1  26.0   7.9250  0  0  1       1     0  0  0  1\n",
            "3              4         1  35.0  53.1000  1  0  0       1     0  0  0  1\n",
            "4              5         0  35.0   8.0500  0  0  1       0     1  0  0  1\n",
            "..           ...       ...   ...      ... .. .. ..     ...   ... .. .. ..\n",
            "885          886         0  39.0  29.1250  0  0  1       1     0  0  1  0\n",
            "886          887         0  27.0  13.0000  0  1  0       0     1  0  0  1\n",
            "887          888         1  19.0  30.0000  1  0  0       1     0  0  0  1\n",
            "889          890         1  26.0  30.0000  1  0  0       0     1  1  0  0\n",
            "890          891         0  32.0   7.7500  0  0  1       0     1  0  1  0\n",
            "\n",
            "[712 rows x 12 columns]\n"
          ]
        }
      ],
      "source": [
        "import pandas as pd\n",
        "import numpy as np\n",
        "from sklearn.model_selection import train_test_split\n",
        "from sklearn.model_selection import cross_val_score\n",
        "from sklearn.model_selection import KFold\n",
        "from sklearn.ensemble import RandomForestClassifier\n",
        "from sklearn import tree\n",
        "\n",
        "# reading the file\n",
        "_data = pd.read_csv(\"/content/sample_data/train.csv\")\n",
        "print(_data.columns)\n",
        "\n",
        "# Removing unwanted or columns that does not provide much info\n",
        "unwanted_Col = [\"Name\",\"Cabin\",\"Ticket\"]\n",
        "_data = _data.drop(unwanted_Col,axis=1)\n",
        "\n",
        "# Removing NA/null and duplicate values from columns\n",
        "_data = _data.dropna()\n",
        "_data = _data.drop_duplicates()\n",
        "\n",
        "# Tranforming sex, Embark and Pclass to columns for more information and detailing\n",
        "new_col = [\"Pclass\",\"Sex\",\"Embarked\"]\n",
        "new_data = []\n",
        "# get_dummies converts the values of column to a set of columns or class of different values.\n",
        "for c in new_col:\n",
        "  new_data.append(pd.get_dummies(_data[c]))\n",
        "new_data = pd.concat(new_data,axis=1) # since the data is in list format we concat the data with a null values for easy conversion\n",
        "_data = pd.concat((_data,new_data),axis=1)\n",
        "\n",
        "# Dropping redundant columns, we also drop sex, Pclass, Embarked since these values are transformed to classes/columns and added to the original data.\n",
        "unwanted_col = [\"Pclass\",\"Sex\",\"Embarked\",\"Parch\",\"SibSp\"]\n",
        "_data = _data.drop(unwanted_col,axis=1)\n",
        "\n",
        "# Use interpolate function to fill all the missing values in the age. Interpolate fills the missing values with the median value\n",
        "_data[\"Age\"] = _data[\"Age\"].interpolate()\n",
        "print(_data)"
      ]
    },
    {
      "cell_type": "markdown",
      "source": [
        " QUESTION 4:\n",
        " 3. I have used the decisiontreeclassifier for tree classification and split the data into 2 halves in which 30% is test data and the remaining 70% is split data. Also classified the data into survived and not survived for detailing."
      ],
      "metadata": {
        "id": "WsZBBYiuOnWa"
      }
    },
    {
      "cell_type": "code",
      "source": [
        "from sklearn.metrics import accuracy_score\n",
        "X = _data.values\n",
        "Y = _data[\"Survived\"].values\n",
        "\n",
        "# X still has survived column values removing the column\n",
        "X = np.delete(X,1,axis=1)\n",
        "\n",
        "X_train, X_test, Y_train, Y_real = train_test_split(X,Y,test_size=0.3)\n",
        "\n",
        "# Using Decision tree classifier for decision tree\n",
        "clf = tree.DecisionTreeClassifier(max_depth = 3)\n",
        "clf = clf.fit(X_train,Y_train)\n",
        "# print(clf.score)\n",
        "y_pred = clf.predict(X_test)\n",
        "accuracy = accuracy_score(Y_real,y_pred)\n",
        "print(\"Accuracy :\",accuracy)\n",
        "tree.plot_tree(clf,class_names = ['Survived','Not Survived'])"
      ],
      "metadata": {
        "colab": {
          "base_uri": "https://localhost:8080/",
          "height": 684
        },
        "id": "ktN9GiP31bQL",
        "outputId": "aa72447a-22d0-48f8-9b4d-11e5e9a161cf"
      },
      "execution_count": 17,
      "outputs": [
        {
          "output_type": "stream",
          "name": "stdout",
          "text": [
            "Accuracy : 0.7990654205607477\n"
          ]
        },
        {
          "output_type": "execute_result",
          "data": {
            "text/plain": [
              "[Text(0.5, 0.875, 'x[6] <= 0.5\\ngini = 0.474\\nsamples = 498\\nvalue = [306, 192]\\nclass = Survived'),\n",
              " Text(0.25, 0.625, 'x[1] <= 6.5\\ngini = 0.313\\nsamples = 325\\nvalue = [262, 63]\\nclass = Survived'),\n",
              " Text(0.125, 0.375, 'x[0] <= 179.5\\ngini = 0.36\\nsamples = 17\\nvalue = [4, 13]\\nclass = Not Survived'),\n",
              " Text(0.0625, 0.125, 'gini = 0.375\\nsamples = 4\\nvalue = [3, 1]\\nclass = Survived'),\n",
              " Text(0.1875, 0.125, 'gini = 0.142\\nsamples = 13\\nvalue = [1, 12]\\nclass = Not Survived'),\n",
              " Text(0.375, 0.375, 'x[3] <= 0.5\\ngini = 0.272\\nsamples = 308\\nvalue = [258, 50]\\nclass = Survived'),\n",
              " Text(0.3125, 0.125, 'gini = 0.188\\nsamples = 238\\nvalue = [213, 25]\\nclass = Survived'),\n",
              " Text(0.4375, 0.125, 'gini = 0.459\\nsamples = 70\\nvalue = [45, 25]\\nclass = Survived'),\n",
              " Text(0.75, 0.625, 'x[5] <= 0.5\\ngini = 0.379\\nsamples = 173\\nvalue = [44, 129]\\nclass = Not Survived'),\n",
              " Text(0.625, 0.375, 'x[1] <= 2.5\\ngini = 0.124\\nsamples = 105\\nvalue = [7, 98]\\nclass = Not Survived'),\n",
              " Text(0.5625, 0.125, 'gini = 0.0\\nsamples = 1\\nvalue = [1, 0]\\nclass = Survived'),\n",
              " Text(0.6875, 0.125, 'gini = 0.109\\nsamples = 104\\nvalue = [6, 98]\\nclass = Not Survived'),\n",
              " Text(0.875, 0.375, 'x[2] <= 20.8\\ngini = 0.496\\nsamples = 68\\nvalue = [37, 31]\\nclass = Survived'),\n",
              " Text(0.8125, 0.125, 'gini = 0.497\\nsamples = 54\\nvalue = [25, 29]\\nclass = Not Survived'),\n",
              " Text(0.9375, 0.125, 'gini = 0.245\\nsamples = 14\\nvalue = [12, 2]\\nclass = Survived')]"
            ]
          },
          "metadata": {},
          "execution_count": 17
        },
        {
          "output_type": "display_data",
          "data": {
            "text/plain": [
              "<Figure size 640x480 with 1 Axes>"
            ],
            "image/png": "[encoded data removed]"
          },
          "metadata": {}
        }
      ]
    },
    {
      "cell_type": "markdown",
      "source": [
        "QUESTION 4:\n",
        "\n",
        "4. I have used the ShuffleSplit function from Scikit Learn for the cross validation process. In shuffle split the data is replaced for test and training in each and every iteration and used the mean for average accuracy\n"
      ],
      "metadata": {
        "id": "Ns6B-DvzO_Za"
      }
    },
    {
      "cell_type": "code",
      "source": [
        "KFold,\n",
        "# For 5 fold cross validation we divide the dataset into 5 parts and each time we choose the 4 parts as training set and the remaining as testset\n",
        "cv = KFold(n_splits=5)\n",
        "cross_Validation_scores = cross_val_score(clf,X_train,Y_train,cv=cv)\n",
        "print(cross_Validation_scores.mean())\n"
      ],
      "metadata": {
        "colab": {
          "base_uri": "https://localhost:8080/"
        },
        "id": "jVROkfIn1dWg",
        "outputId": "378d40ab-a993-4a0e-ddb0-0d3f5383f181"
      },
      "execution_count": 19,
      "outputs": [
        {
          "output_type": "stream",
          "name": "stdout",
          "text": [
            "0.7953939393939395\n"
          ]
        }
      ]
    },
    {
      "cell_type": "code",
      "source": [
        "model_rf = RandomForestClassifier()\n",
        "model_rf = clf.fit(X_train,Y_train)\n",
        "y_pred_forest = model_rf.predict(X_test)\n",
        "y_pred_forest\n",
        "accuracy_forest = model_rf.score(X_test,Y_real)\n",
        "accuracy_forest\n",
        "cross_Validation_scores = cross_val_score(model_rf,X_train,Y_train,cv=cv)\n",
        "print(cross_Validation_scores.mean())"
      ],
      "metadata": {
        "colab": {
          "base_uri": "https://localhost:8080/"
        },
        "id": "s3LiaLdNC_tq",
        "outputId": "9325b009-fc86-441b-cc6a-32946cdea883"
      },
      "execution_count": 23,
      "outputs": [
        {
          "output_type": "stream",
          "name": "stdout",
          "text": [
            "0.7953939393939395\n"
          ]
        }
      ]
    },
    {
      "cell_type": "markdown",
      "source": [
        "QUESTION 4:\n",
        "6. Obviously, I would say that random forest is preferable to decision trees since it combines many decision trees to produce decorrelated trees with more variation and higher throughput than decision trees do at each split.\n",
        "7. After applying both the algorithms I found that random classifier has more accuracy when compared to decision tree and after applying the performance evaluator which is cross validation in this case gave a better idea of accuracies from both models i.e, DecisionTrees and RandomForest."
      ],
      "metadata": {
        "id": "0Mf1GI0-fdOL"
      }
    },
    {
      "cell_type": "markdown",
      "source": [
        "**QUESTION 5: **\n",
        "1. For Bagging, Adaboost I used the functions from Scikit Learn and trained them with training data provided from train_test_split function and later on predicted/classified the test data and the found the accuracy using score method."
      ],
      "metadata": {
        "id": "i3ZzvWEWPlOP"
      }
    },
    {
      "cell_type": "code",
      "source": [
        "from sklearn.ensemble import BaggingClassifier\n",
        "classification_1 = tree.DecisionTreeClassifier(max_depth=3)\n",
        "bagging_classifier = BaggingClassifier(estimator=classification_1,n_estimators=100,random_state=1)\n",
        "bagging_classifier.fit(X_train,Y_train)\n",
        "y_pred = bagging_classifier.predict(X_test)\n",
        "accuracy_score(Y_real, y_pred)"
      ],
      "metadata": {
        "colab": {
          "base_uri": "https://localhost:8080/"
        },
        "id": "3G3itWSuLqtx",
        "outputId": "e20fe24b-3404-4a48-95bb-a1ce10353db7"
      },
      "execution_count": null,
      "outputs": [
        {
          "output_type": "execute_result",
          "data": {
            "text/plain": [
              "0.7616822429906542"
            ]
          },
          "metadata": {},
          "execution_count": 13
        }
      ]
    },
    {
      "cell_type": "code",
      "source": [
        "from sklearn.ensemble import AdaBoostClassifier\n",
        "adaBoost = AdaBoostClassifier(learning_rate=1.0,n_estimators=100)\n",
        "adaBoost.fit(X_train,Y_train)\n",
        "y_pred = adaBoost.predict(X_test)\n",
        "accuracy_score(Y_real, y_pred)"
      ],
      "metadata": {
        "colab": {
          "base_uri": "https://localhost:8080/"
        },
        "id": "DdQ6vs4NLxy6",
        "outputId": "40378c57-e0c1-4da6-bde4-c20a13723d7e"
      },
      "execution_count": null,
      "outputs": [
        {
          "output_type": "execute_result",
          "data": {
            "text/plain": [
              "0.7570093457943925"
            ]
          },
          "metadata": {},
          "execution_count": 14
        }
      ]
    }
  ]
}