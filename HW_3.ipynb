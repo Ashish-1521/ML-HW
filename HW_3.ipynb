{
  "nbformat": 4,
  "nbformat_minor": 0,
  "metadata": {
    "colab": {
      "provenance": [],
      "authorship_tag": "ABX9TyOs5zOE17XYISyO3ZlU3dZg",
      "include_colab_link": true
    },
    "kernelspec": {
      "name": "python3",
      "display_name": "Python 3"
    },
    "language_info": {
      "name": "python"
    }
  },
  "cells": [
    {
      "cell_type": "markdown",
      "metadata": {
        "id": "view-in-github",
        "colab_type": "text"
      },
      "source": [
        "<a href=\"https://colab.research.google.com/github/Ashish-1521/ML-HW/blob/main/HW_3.ipynb\" target=\"_parent\"><img src=\"https://colab.research.google.com/assets/colab-badge.svg\" alt=\"Open In Colab\"/></a>"
      ]
    },
    {
      "cell_type": "markdown",
      "source": [
        "For classifying data first we need to process or clean the data from impurities that restrict accuracy of the model this phase of cleaning is pre-processing of data.\n",
        "In the data I have removed all the null values and ignored the data that does not provide information or help in classifying for example the Name column while filling the missing information for columns like AGE which provide important information.\n",
        "I have filled the missing information using the interpolate function which fills the missing values with median values, these missing values can be filled with the mean of all the values in that column."
      ],
      "metadata": {
        "id": "FcIMhHgENWeG"
      }
    },
    {
      "cell_type": "code",
      "execution_count": 2,
      "metadata": {
        "colab": {
          "base_uri": "https://localhost:8080/"
        },
        "id": "cSPySiXSfPfc",
        "outputId": "834a0f50-e37f-440f-b5e7-bca09a101984"
      },
      "outputs": [
        {
          "output_type": "stream",
          "name": "stdout",
          "text": [
            "     PassengerId  Survived   Age     Fare  1  2  3  female  male  C  Q  S\n",
            "0              1         0  22.0   7.2500  0  0  1       0     1  0  0  1\n",
            "1              2         1  38.0  71.2833  1  0  0       1     0  1  0  0\n",
            "2              3         1  26.0   7.9250  0  0  1       1     0  0  0  1\n",
            "3              4         1  35.0  53.1000  1  0  0       1     0  0  0  1\n",
            "4              5         0  35.0   8.0500  0  0  1       0     1  0  0  1\n",
            "..           ...       ...   ...      ... .. .. ..     ...   ... .. .. ..\n",
            "885          886         0  39.0  29.1250  0  0  1       1     0  0  1  0\n",
            "886          887         0  27.0  13.0000  0  1  0       0     1  0  0  1\n",
            "887          888         1  19.0  30.0000  1  0  0       1     0  0  0  1\n",
            "889          890         1  26.0  30.0000  1  0  0       0     1  1  0  0\n",
            "890          891         0  32.0   7.7500  0  0  1       0     1  0  1  0\n",
            "\n",
            "[712 rows x 12 columns]\n"
          ]
        }
      ],
      "source": [
        "import pandas as pd\n",
        "import numpy as np\n",
        "from sklearn.model_selection import train_test_split\n",
        "from sklearn.model_selection import cross_val_score\n",
        "from sklearn.model_selection import ShuffleSplit\n",
        "from sklearn.ensemble import RandomForestClassifier\n",
        "from sklearn import tree\n",
        "\n",
        "# reading the file\n",
        "_data = pd.read_csv(\"/content/sample_data/train.csv\")\n",
        "\n",
        "# Removing unwanted or columns that provide much info\n",
        "unwanted_Col = [\"Name\",\"Cabin\",\"Ticket\"]\n",
        "_data = _data.drop(unwanted_Col,axis=1)\n",
        "\n",
        "# Removing NA/null values from columns\n",
        "_data = _data.dropna()\n",
        "\n",
        "# Tranforming sex, Embark and Pclass to columns for more information and detailing\n",
        "new_col = [\"Pclass\",\"Sex\",\"Embarked\"]\n",
        "new_data = []\n",
        "# get_dummies converts the values of column to a set of columns or class of different values.\n",
        "for c in new_col:\n",
        "  new_data.append(pd.get_dummies(_data[c]))\n",
        "new_data = pd.concat(new_data,axis=1) # since the data is in list format we concat the data with a null values for easy conversion\n",
        "_data = pd.concat((_data,new_data),axis=1)\n",
        "\n",
        "# Dropping redundant and unwanted columns\n",
        "unwanted_col = [\"Pclass\",\"Sex\",\"Embarked\",\"Parch\",\"SibSp\"]\n",
        "_data = _data.drop(unwanted_col,axis=1)\n",
        "\n",
        "# Use interpolate function to fill all the missing values in the age. Interpolate fills the missing values with the median value\n",
        "_data[\"Age\"] = _data[\"Age\"].interpolate()\n",
        "print(_data)"
      ]
    },
    {
      "cell_type": "markdown",
      "source": [
        "I have used the decisiontreeclassifier for tree classification and split the data into 2 halves in which 30% is test data and the remaining 70% is split data. Also classified the data into survived and not survived for detailing."
      ],
      "metadata": {
        "id": "WsZBBYiuOnWa"
      }
    },
    {
      "cell_type": "code",
      "source": [
        "from sklearn.metrics import accuracy_score\n",
        "X = _data.values\n",
        "Y = _data[\"Survived\"].values\n",
        "\n",
        "# X still has survived column values removing the column\n",
        "X = np.delete(X,1,axis=1)\n",
        "\n",
        "X_train, X_test, Y_train, Y_real = train_test_split(X,Y,test_size=0.3)\n",
        "\n",
        "# Using Decision tree classifier for decision tree\n",
        "clf = tree.DecisionTreeClassifier(max_depth = 3)\n",
        "clf = clf.fit(X_train,Y_train)\n",
        "# print(clf.score)\n",
        "y_pred = clf.predict(X_test)\n",
        "accuracy = accuracy_score(Y_real,y_pred)\n",
        "print(\"Accuracy :\",accuracy)\n",
        "tree.plot_tree(clf,class_names = ['Survived','Not Survived'])"
      ],
      "metadata": {
        "colab": {
          "base_uri": "https://localhost:8080/",
          "height": 684
        },
        "id": "ktN9GiP31bQL",
        "outputId": "e725a5ec-515e-4bd1-99ae-d5a815e993be"
      },
      "execution_count": 3,
      "outputs": [
        {
          "output_type": "stream",
          "name": "stdout",
          "text": [
            "Accuracy : 0.780373831775701\n"
          ]
        },
        {
          "output_type": "execute_result",
          "data": {
            "text/plain": [
              "[Text(0.5, 0.875, 'x[6] <= 0.5\\ngini = 0.481\\nsamples = 498\\nvalue = [297, 201]\\nclass = Survived'),\n",
              " Text(0.25, 0.625, 'x[3] <= 0.5\\ngini = 0.325\\nsamples = 323\\nvalue = [257, 66]\\nclass = Survived'),\n",
              " Text(0.125, 0.375, 'x[1] <= 8.5\\ngini = 0.246\\nsamples = 251\\nvalue = [215, 36]\\nclass = Survived'),\n",
              " Text(0.0625, 0.125, 'gini = 0.457\\nsamples = 17\\nvalue = [6, 11]\\nclass = Not Survived'),\n",
              " Text(0.1875, 0.125, 'gini = 0.191\\nsamples = 234\\nvalue = [209, 25]\\nclass = Survived'),\n",
              " Text(0.375, 0.375, 'x[0] <= 384.5\\ngini = 0.486\\nsamples = 72\\nvalue = [42, 30]\\nclass = Survived'),\n",
              " Text(0.3125, 0.125, 'gini = 0.346\\nsamples = 27\\nvalue = [21, 6]\\nclass = Survived'),\n",
              " Text(0.4375, 0.125, 'gini = 0.498\\nsamples = 45\\nvalue = [21, 24]\\nclass = Not Survived'),\n",
              " Text(0.75, 0.625, 'x[5] <= 0.5\\ngini = 0.353\\nsamples = 175\\nvalue = [40, 135]\\nclass = Not Survived'),\n",
              " Text(0.625, 0.375, 'x[0] <= 854.5\\ngini = 0.075\\nsamples = 103\\nvalue = [4, 99]\\nclass = Not Survived'),\n",
              " Text(0.5625, 0.125, 'gini = 0.059\\nsamples = 99\\nvalue = [3, 96]\\nclass = Not Survived'),\n",
              " Text(0.6875, 0.125, 'gini = 0.375\\nsamples = 4\\nvalue = [1, 3]\\nclass = Not Survived'),\n",
              " Text(0.875, 0.375, 'x[2] <= 20.8\\ngini = 0.5\\nsamples = 72\\nvalue = [36, 36]\\nclass = Survived'),\n",
              " Text(0.8125, 0.125, 'gini = 0.486\\nsamples = 60\\nvalue = [25, 35]\\nclass = Not Survived'),\n",
              " Text(0.9375, 0.125, 'gini = 0.153\\nsamples = 12\\nvalue = [11, 1]\\nclass = Survived')]"
            ]
          },
          "metadata": {},
          "execution_count": 3
        },
        {
          "output_type": "display_data",
          "data": {
            "text/plain": [
              "<Figure size 640x480 with 1 Axes>"
            ],
            "image/png": "[encoded data removed]"
          },
          "metadata": {}
        }
      ]
    },
    {
      "cell_type": "markdown",
      "source": [
        "I have used the ShuffleSplit function from Scikit Learn for the cross validation process. In shuffle split the data is replaced for test and training in each and every iteration and used the mean for average accuracy\n"
      ],
      "metadata": {
        "id": "Ns6B-DvzO_Za"
      }
    },
    {
      "cell_type": "code",
      "source": [
        "# For 5 fold cross validation we divide the dataset into 5 parts and each time we choose the 4 parts as training set and the remaining as testset\n",
        "cv = ShuffleSplit(n_splits=5, test_size=0.3)\n",
        "cross_Validation_scores = cross_val_score(clf,X_train,Y_train,cv=cv)\n",
        "print(cross_Validation_scores.mean())\n"
      ],
      "metadata": {
        "colab": {
          "base_uri": "https://localhost:8080/"
        },
        "id": "jVROkfIn1dWg",
        "outputId": "911bd11d-0c24-4054-9970-b7e5ddd157c0"
      },
      "execution_count": 4,
      "outputs": [
        {
          "output_type": "stream",
          "name": "stdout",
          "text": [
            "0.7773333333333333\n"
          ]
        }
      ]
    },
    {
      "cell_type": "markdown",
      "source": [
        "For RandomForest, Bagging, Adaboost I used the functions from Scikit Learn and trained them with training data provided from train_test_split function and later on predicted/classified the test data and the found the accuracy using score method."
      ],
      "metadata": {
        "id": "i3ZzvWEWPlOP"
      }
    },
    {
      "cell_type": "code",
      "source": [
        "model_rf = RandomForestClassifier()\n",
        "model_rf = clf.fit(X_train,Y_train)\n",
        "y_pred_forest = model_rf.predict(X_test)\n",
        "y_pred_forest\n",
        "accuracy_forest = model_rf.score(X_test,Y_real)\n",
        "accuracy_forest"
      ],
      "metadata": {
        "colab": {
          "base_uri": "https://localhost:8080/"
        },
        "id": "s3LiaLdNC_tq",
        "outputId": "52ed2b49-8433-4bdd-b811-90acb25bcc22"
      },
      "execution_count": 5,
      "outputs": [
        {
          "output_type": "execute_result",
          "data": {
            "text/plain": [
              "0.780373831775701"
            ]
          },
          "metadata": {},
          "execution_count": 5
        }
      ]
    },
    {
      "cell_type": "code",
      "source": [
        "from sklearn.ensemble import BaggingClassifier\n",
        "classification_1 = tree.DecisionTreeClassifier(max_depth=3)\n",
        "bagging_classifier = BaggingClassifier(estimator=classification_1,n_estimators=100,random_state=1)\n",
        "bagging_classifier.fit(X_train,Y_train)\n",
        "y_pred = bagging_classifier.predict(X_test)\n",
        "accuracy_score(Y_real, y_pred)"
      ],
      "metadata": {
        "colab": {
          "base_uri": "https://localhost:8080/"
        },
        "id": "3G3itWSuLqtx",
        "outputId": "181eeb29-bfb3-434f-9fd7-79e5b4fba4aa"
      },
      "execution_count": 6,
      "outputs": [
        {
          "output_type": "execute_result",
          "data": {
            "text/plain": [
              "0.8271028037383178"
            ]
          },
          "metadata": {},
          "execution_count": 6
        }
      ]
    },
    {
      "cell_type": "code",
      "source": [
        "from sklearn.ensemble import AdaBoostClassifier\n",
        "adaBoost = AdaBoostClassifier(learning_rate=1.0,n_estimators=100)\n",
        "adaBoost.fit(X_train,Y_train)\n",
        "y_pred = adaBoost.predict(X_test)\n",
        "accuracy_score(Y_real, y_pred)"
      ],
      "metadata": {
        "colab": {
          "base_uri": "https://localhost:8080/"
        },
        "id": "DdQ6vs4NLxy6",
        "outputId": "7ee02cdf-83dc-4a57-8020-53e3b2fa93b6"
      },
      "execution_count": 7,
      "outputs": [
        {
          "output_type": "execute_result",
          "data": {
            "text/plain": [
              "0.7990654205607477"
            ]
          },
          "metadata": {},
          "execution_count": 7
        }
      ]
    }
  ]
}