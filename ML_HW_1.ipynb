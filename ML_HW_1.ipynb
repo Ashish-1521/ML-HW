{
  "nbformat": 4,
  "nbformat_minor": 0,
  "metadata": {
    "colab": {
      "provenance": [],
      "authorship_tag": "ABX9TyOxrBvmkuKzejJeUEPOjbLO",
      "include_colab_link": true
    },
    "kernelspec": {
      "name": "python3",
      "display_name": "Python 3"
    },
    "language_info": {
      "name": "python"
    }
  },
  "cells": [
    {
      "cell_type": "markdown",
      "metadata": {
        "id": "view-in-github",
        "colab_type": "text"
      },
      "source": [
        "<a href=\"https://colab.research.google.com/github/Ashish-1521/ML-HW/blob/main/ML_HW_1.ipynb\" target=\"_parent\"><img src=\"https://colab.research.google.com/assets/colab-badge.svg\" alt=\"Open In Colab\"/></a>"
      ]
    },
    {
      "cell_type": "markdown",
      "source": [
        "Calculating Euclidean Distance, Cosine Similarity , Correlation using user-defined functions. These functions take 2 vectors as input and produce a single value as output.\n",
        "\n",
        "*   sd_x = standard deviation of x\n",
        "*   sd_y = standard deviation of y\n",
        "*   s = sum of values\n",
        "*   n_x = size of x\n",
        "*   n_y = size of y"
      ],
      "metadata": {
        "id": "CUMywy2jqhBI"
      }
    },
    {
      "cell_type": "code",
      "execution_count": null,
      "metadata": {
        "colab": {
          "base_uri": "https://localhost:8080/"
        },
        "id": "VNjBfzrFSaLX",
        "outputId": "4a500017-3373-45ee-adef-e49f42d49c4a"
      },
      "outputs": [
        {
          "output_type": "stream",
          "name": "stdout",
          "text": [
            "Enter number of points :5\n",
            "Enter x max range value:0\n",
            "Enter y max range value:10\n",
            "Enter x min range value:-5\n",
            "Enter y min range value:1\n",
            "Euclidean Dist :17.26267650163207 cosine similarity:-0.7703099917849363 correlation:-0.2444064509671058\n",
            "[-1 -2 -5 -1 -2]\n",
            "[2 4 7 9 1]\n"
          ]
        }
      ],
      "source": [
        "import numpy as np\n",
        "import math\n",
        "No_of_Elements = int(input(\"Enter number of points :\"))\n",
        "max_X = int(input(\"Enter x max range value:\"))\n",
        "max_Y = int(input(\"Enter y max range value:\"))\n",
        "min_X = int(input(\"Enter x min range value:\"))\n",
        "min_Y = int(input(\"Enter y min range value:\"))\n",
        "xx = np.random.randint(min_X,max_X,No_of_Elements)\n",
        "yy = np.random.randint(min_Y,max_Y,No_of_Elements)\n",
        "\n",
        "# Calculating Euclidean Distance\n",
        "\n",
        "def Euclidean_Dist(x,y): # x,y are 2 vector inputs\n",
        "  s = 0\n",
        "  for i in range(len(x)):\n",
        "    s += (x[i]-y[i])**2\n",
        "  s = math.sqrt(s)\n",
        "  return s\n",
        "\n",
        "# Calculating cosine similarity\n",
        "\n",
        "def cosine_Similarity(x,y): # x,y are 2 vector inputs\n",
        "  d1_d2 = 0\n",
        "  d1=0\n",
        "  d2=0\n",
        "  for i in range(len(x)):\n",
        "    d1_d2 += x[i]*y[i]\n",
        "    d1 += x[i]*x[i]\n",
        "    d2 += y[i]*y[i]\n",
        "  d1 = math.sqrt(d1)\n",
        "  d2 = math.sqrt(d2)\n",
        "  return (d1_d2/(d1*d2))\n",
        "\n",
        "# calculating correlation\n",
        "\n",
        "def correlation(x,y): # x,y are 2 vector inputs\n",
        "  covariance_ = 0\n",
        "  sd_x = 0\n",
        "  sd_y = 0\n",
        "  n_x = len(x)\n",
        "  n_y = len(y)\n",
        "  mean_x = sum(x)/n_x\n",
        "  mean_y = sum(y)/n_y\n",
        "  for i in range(n_x):\n",
        "    sd_x += (mean_x-x[i])**2\n",
        "    sd_y += (mean_y-y[i])**2\n",
        "    if sd_x==0 or sd_y==0:\n",
        "      break\n",
        "    covariance_ += (x[i]-mean_x)*(y[i]-mean_y)\n",
        "  sd_x = math.sqrt((1/(n_x-1))*sd_x)\n",
        "  sd_y = math.sqrt((1/(n_y-1))*sd_y)\n",
        "  covariance_ = (1/(n_x-1))*covariance_\n",
        "  return (covariance_)/(sd_x*sd_y)\n",
        "eu = Euclidean_Dist(xx,yy)\n",
        "co = cosine_Similarity(xx,yy)\n",
        "corr = correlation(xx,yy)\n",
        "print(\"Euclidean Dist :{} cosine similarity:{} correlation:{}\".format(eu,co,corr))\n",
        "print(xx)\n",
        "print(yy)"
      ]
    },
    {
      "cell_type": "markdown",
      "source": [
        "Using Predefined functions from nunmpy to calculate Euclidean distance, Cosine Similarity and Correlation."
      ],
      "metadata": {
        "id": "CWyBZhyqn0sC"
      }
    },
    {
      "cell_type": "code",
      "source": [
        "#@title Using Numpy in Python\n",
        "import numpy as np\n",
        "No_of_Elements = int(input(\"Enter number of points :\"))\n",
        "max_X = int(input(\"Enter x max value :\"))\n",
        "max_Y = int(input(\"Enter y max value :\"))\n",
        "min_X = int(input(\"Enter x min value :\"))\n",
        "min_Y = int(input(\"Enter y min value :\"))\n",
        "vector1 = np.random.randint(min_X,max_X,No_of_Elements)\n",
        "vector2 = np.random.randint(min_Y,max_Y,No_of_Elements)\n",
        "print(\"Vector1 : {} Vector2 : {}\".format(vector1,vector2))\n",
        "\n",
        "# Calculating Coefficient\n",
        "correlation_coefficient = np.corrcoef(vector1, vector2)[0, 1] # in this we take [0,1] indexing because the np.corrcoef gives a (2 X 2) matrix in which [0,0 and 1,1] are 1 and only [0,1 and 1,0] gives coefficient values\n",
        "print(\"correlation : {}\".format(correlation_coefficient))\n",
        "\n",
        "# Calculating Cosine similarity\n",
        "dot_value = np.dot(vector1, vector2)\n",
        "norm_vector1 = np.linalg.norm(vector1)\n",
        "norm_vector2 = np.linalg.norm(vector2)\n",
        "cosine_similarity = dot_value / (norm_vector1 * norm_vector2)\n",
        "print(\"Cosine Similarity : {}\".format(cosine_similarity))\n",
        "\n",
        "# Calculating Euclidean Distance\n",
        "euclidean_distance = np.linalg.norm(vector1 - vector2)\n",
        "print(\"Euclidean Dist : {}\".format(euclidean_distance))"
      ],
      "metadata": {
        "colab": {
          "base_uri": "https://localhost:8080/"
        },
        "id": "usQ4R4cdnMKv",
        "outputId": "f5231d50-f9d7-4962-d058-5223c69adc1a"
      },
      "execution_count": null,
      "outputs": [
        {
          "output_type": "stream",
          "name": "stdout",
          "text": [
            "Enter number of points :10\n",
            "Enter x max value :50\n",
            "Enter y max value :25\n",
            "Enter x min value :1\n",
            "Enter y min value :1\n",
            "Vector1 : [27 41  9 22  9 13  2 26 15 15] Vector2 : [23 16 21 11 24 16  4 22  7  6]\n",
            "correlation : 0.28863741069876525\n",
            "Cosine Similarity : 0.8378802097351028\n",
            "Euclidean Dist : 36.124783736376884\n"
          ]
        }
      ]
    },
    {
      "cell_type": "code",
      "source": [
        "#@title Using Scipy in Python\n",
        "import numpy as np\n",
        "from scipy.spatial import distance\n",
        "import scipy.stats\n",
        "No_of_Elements = int(input(\"Enter number of points :\"))\n",
        "max_X = int(input(\"Enter x max value :\"))\n",
        "max_Y = int(input(\"Enter y max value :\"))\n",
        "min_X = int(input(\"Enter x min value :\"))\n",
        "min_Y = int(input(\"Enter y min value :\"))\n",
        "vector1 = np.random.randint(min_X,max_X,No_of_Elements)\n",
        "vector2 = np.random.randint(min_Y,max_Y,No_of_Elements)\n",
        "print(\"Vector1 : {} Vector2 : {}\".format(vector1,vector2))\n",
        "\n",
        "#Correlation\n",
        "correlation_val = scipy.stats.pearsonr(vector1,vector2)\n",
        "print(\"Correlation : {}\".format(correlation_val[0]))\n",
        "\n",
        "#Euclidean\n",
        "print(\"Euclidean_Dist : {}\".format(distance.euclidean(vector1,vector2)))\n",
        "\n",
        "#cosine similarity\n",
        "print(\"Cosine_Similarity : {}\".format(distance.cosine(vector1,vector2)))\n"
      ],
      "metadata": {
        "colab": {
          "base_uri": "https://localhost:8080/"
        },
        "id": "1-18IvBVsfa8",
        "outputId": "722aef97-e2b8-4e18-9d27-20389ece170d"
      },
      "execution_count": null,
      "outputs": [
        {
          "output_type": "stream",
          "name": "stdout",
          "text": [
            "Enter number of points :5\n",
            "Enter x max value :10\n",
            "Enter y max value :10\n",
            "Enter x min value :1\n",
            "Enter y min value :1\n",
            "Vector1 : [7 7 9 7 8] Vector2 : [3 3 6 4 8]\n",
            "Correlation : 0.7219948723811553\n",
            "Euclidean_Dist : 7.0710678118654755\n",
            "Cosine_Similarity : 0.049583375368359106\n"
          ]
        }
      ]
    },
    {
      "cell_type": "code",
      "source": [
        "#@title Using Pandas in Python\n",
        "import pandas as pd\n",
        "x = pd.Series(range(10, 20))\n",
        "y = pd.Series([2, 1, 4, 5, 8, 12, 18, 25, 96, 48])\n",
        "\n",
        "#correlation\n",
        "print(x.corr(y))\n",
        "print(y.corr(x))"
      ],
      "metadata": {
        "colab": {
          "base_uri": "https://localhost:8080/"
        },
        "id": "dxcLRVHrwVdO",
        "outputId": "ca5e6bf5-2da4-4cbc-fa31-8b4468f1a8c2"
      },
      "execution_count": null,
      "outputs": [
        {
          "output_type": "stream",
          "name": "stdout",
          "text": [
            "0.7586402890911867\n",
            "0.7586402890911869\n"
          ]
        }
      ]
    }
  ]
}